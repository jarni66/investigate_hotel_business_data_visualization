{
 "cells": [
  {
   "cell_type": "markdown",
   "id": "cdfc9428-1698-448b-b836-494b65dea248",
   "metadata": {},
   "source": [
    "# Import dataset"
   ]
  },
  {
   "cell_type": "code",
   "execution_count": 15,
   "id": "dfb96472-fc8f-47c3-9129-13ed99163c93",
   "metadata": {},
   "outputs": [],
   "source": [
    "# importing libraries\n",
    "import pandas as pd\n",
    "import scipy\n",
    "import numpy as np\n",
    "from sklearn.preprocessing import MinMaxScaler\n",
    "import seaborn as sns\n",
    "import matplotlib.pyplot as plt\n"
   ]
  },
  {
   "cell_type": "code",
   "execution_count": 16,
   "id": "3efa0eda-3619-4331-ba90-3169b5984fa6",
   "metadata": {},
   "outputs": [
    {
     "data": {
      "text/html": [
       "<div>\n",
       "<style scoped>\n",
       "    .dataframe tbody tr th:only-of-type {\n",
       "        vertical-align: middle;\n",
       "    }\n",
       "\n",
       "    .dataframe tbody tr th {\n",
       "        vertical-align: top;\n",
       "    }\n",
       "\n",
       "    .dataframe thead th {\n",
       "        text-align: right;\n",
       "    }\n",
       "</style>\n",
       "<table border=\"1\" class=\"dataframe\">\n",
       "  <thead>\n",
       "    <tr style=\"text-align: right;\">\n",
       "      <th></th>\n",
       "      <th>hotel</th>\n",
       "      <th>is_canceled</th>\n",
       "      <th>lead_time</th>\n",
       "      <th>arrival_date_year</th>\n",
       "      <th>arrival_date_month</th>\n",
       "      <th>arrival_date_week_number</th>\n",
       "      <th>arrival_date_day_of_month</th>\n",
       "      <th>stays_in_weekend_nights</th>\n",
       "      <th>stays_in_weekdays_nights</th>\n",
       "      <th>adults</th>\n",
       "      <th>...</th>\n",
       "      <th>booking_changes</th>\n",
       "      <th>deposit_type</th>\n",
       "      <th>agent</th>\n",
       "      <th>company</th>\n",
       "      <th>days_in_waiting_list</th>\n",
       "      <th>customer_type</th>\n",
       "      <th>adr</th>\n",
       "      <th>required_car_parking_spaces</th>\n",
       "      <th>total_of_special_requests</th>\n",
       "      <th>reservation_status</th>\n",
       "    </tr>\n",
       "  </thead>\n",
       "  <tbody>\n",
       "    <tr>\n",
       "      <th>0</th>\n",
       "      <td>Resort Hotel</td>\n",
       "      <td>0</td>\n",
       "      <td>342</td>\n",
       "      <td>2017</td>\n",
       "      <td>September</td>\n",
       "      <td>27</td>\n",
       "      <td>1</td>\n",
       "      <td>0</td>\n",
       "      <td>0</td>\n",
       "      <td>2</td>\n",
       "      <td>...</td>\n",
       "      <td>3</td>\n",
       "      <td>No Deposit</td>\n",
       "      <td>NaN</td>\n",
       "      <td>NaN</td>\n",
       "      <td>0</td>\n",
       "      <td>Personal</td>\n",
       "      <td>0.0</td>\n",
       "      <td>0</td>\n",
       "      <td>0</td>\n",
       "      <td>Check-Out</td>\n",
       "    </tr>\n",
       "    <tr>\n",
       "      <th>1</th>\n",
       "      <td>Resort Hotel</td>\n",
       "      <td>0</td>\n",
       "      <td>737</td>\n",
       "      <td>2017</td>\n",
       "      <td>September</td>\n",
       "      <td>27</td>\n",
       "      <td>1</td>\n",
       "      <td>0</td>\n",
       "      <td>0</td>\n",
       "      <td>2</td>\n",
       "      <td>...</td>\n",
       "      <td>4</td>\n",
       "      <td>No Deposit</td>\n",
       "      <td>NaN</td>\n",
       "      <td>NaN</td>\n",
       "      <td>0</td>\n",
       "      <td>Personal</td>\n",
       "      <td>0.0</td>\n",
       "      <td>0</td>\n",
       "      <td>0</td>\n",
       "      <td>Check-Out</td>\n",
       "    </tr>\n",
       "    <tr>\n",
       "      <th>2</th>\n",
       "      <td>Resort Hotel</td>\n",
       "      <td>0</td>\n",
       "      <td>7</td>\n",
       "      <td>2017</td>\n",
       "      <td>September</td>\n",
       "      <td>27</td>\n",
       "      <td>1</td>\n",
       "      <td>0</td>\n",
       "      <td>1</td>\n",
       "      <td>1</td>\n",
       "      <td>...</td>\n",
       "      <td>0</td>\n",
       "      <td>No Deposit</td>\n",
       "      <td>NaN</td>\n",
       "      <td>NaN</td>\n",
       "      <td>0</td>\n",
       "      <td>Personal</td>\n",
       "      <td>75.0</td>\n",
       "      <td>0</td>\n",
       "      <td>0</td>\n",
       "      <td>Check-Out</td>\n",
       "    </tr>\n",
       "    <tr>\n",
       "      <th>3</th>\n",
       "      <td>Resort Hotel</td>\n",
       "      <td>0</td>\n",
       "      <td>13</td>\n",
       "      <td>2017</td>\n",
       "      <td>September</td>\n",
       "      <td>27</td>\n",
       "      <td>1</td>\n",
       "      <td>0</td>\n",
       "      <td>1</td>\n",
       "      <td>1</td>\n",
       "      <td>...</td>\n",
       "      <td>0</td>\n",
       "      <td>No Deposit</td>\n",
       "      <td>304.0</td>\n",
       "      <td>NaN</td>\n",
       "      <td>0</td>\n",
       "      <td>Personal</td>\n",
       "      <td>75.0</td>\n",
       "      <td>0</td>\n",
       "      <td>0</td>\n",
       "      <td>Check-Out</td>\n",
       "    </tr>\n",
       "    <tr>\n",
       "      <th>4</th>\n",
       "      <td>Resort Hotel</td>\n",
       "      <td>0</td>\n",
       "      <td>14</td>\n",
       "      <td>2017</td>\n",
       "      <td>September</td>\n",
       "      <td>27</td>\n",
       "      <td>1</td>\n",
       "      <td>0</td>\n",
       "      <td>2</td>\n",
       "      <td>2</td>\n",
       "      <td>...</td>\n",
       "      <td>0</td>\n",
       "      <td>No Deposit</td>\n",
       "      <td>240.0</td>\n",
       "      <td>NaN</td>\n",
       "      <td>0</td>\n",
       "      <td>Personal</td>\n",
       "      <td>98.0</td>\n",
       "      <td>0</td>\n",
       "      <td>1</td>\n",
       "      <td>Check-Out</td>\n",
       "    </tr>\n",
       "  </tbody>\n",
       "</table>\n",
       "<p>5 rows × 29 columns</p>\n",
       "</div>"
      ],
      "text/plain": [
       "          hotel  is_canceled  lead_time  arrival_date_year arrival_date_month  \\\n",
       "0  Resort Hotel            0        342               2017          September   \n",
       "1  Resort Hotel            0        737               2017          September   \n",
       "2  Resort Hotel            0          7               2017          September   \n",
       "3  Resort Hotel            0         13               2017          September   \n",
       "4  Resort Hotel            0         14               2017          September   \n",
       "\n",
       "   arrival_date_week_number  arrival_date_day_of_month  \\\n",
       "0                        27                          1   \n",
       "1                        27                          1   \n",
       "2                        27                          1   \n",
       "3                        27                          1   \n",
       "4                        27                          1   \n",
       "\n",
       "   stays_in_weekend_nights  stays_in_weekdays_nights  adults  ...  \\\n",
       "0                        0                         0       2  ...   \n",
       "1                        0                         0       2  ...   \n",
       "2                        0                         1       1  ...   \n",
       "3                        0                         1       1  ...   \n",
       "4                        0                         2       2  ...   \n",
       "\n",
       "   booking_changes  deposit_type  agent company days_in_waiting_list  \\\n",
       "0                3    No Deposit    NaN     NaN                    0   \n",
       "1                4    No Deposit    NaN     NaN                    0   \n",
       "2                0    No Deposit    NaN     NaN                    0   \n",
       "3                0    No Deposit  304.0     NaN                    0   \n",
       "4                0    No Deposit  240.0     NaN                    0   \n",
       "\n",
       "  customer_type   adr  required_car_parking_spaces  total_of_special_requests  \\\n",
       "0      Personal   0.0                            0                          0   \n",
       "1      Personal   0.0                            0                          0   \n",
       "2      Personal  75.0                            0                          0   \n",
       "3      Personal  75.0                            0                          0   \n",
       "4      Personal  98.0                            0                          1   \n",
       "\n",
       "   reservation_status  \n",
       "0           Check-Out  \n",
       "1           Check-Out  \n",
       "2           Check-Out  \n",
       "3           Check-Out  \n",
       "4           Check-Out  \n",
       "\n",
       "[5 rows x 29 columns]"
      ]
     },
     "execution_count": 16,
     "metadata": {},
     "output_type": "execute_result"
    }
   ],
   "source": [
    "df = pd.read_csv('hotel_bookings_data.csv')\n",
    "df.head()"
   ]
  },
  {
   "cell_type": "code",
   "execution_count": 17,
   "id": "78be5a3a-6434-4c08-b31a-02a81d1071cd",
   "metadata": {},
   "outputs": [
    {
     "name": "stdout",
     "output_type": "stream",
     "text": [
      "<class 'pandas.core.frame.DataFrame'>\n",
      "RangeIndex: 119390 entries, 0 to 119389\n",
      "Data columns (total 29 columns):\n",
      " #   Column                          Non-Null Count   Dtype  \n",
      "---  ------                          --------------   -----  \n",
      " 0   hotel                           119390 non-null  object \n",
      " 1   is_canceled                     119390 non-null  int64  \n",
      " 2   lead_time                       119390 non-null  int64  \n",
      " 3   arrival_date_year               119390 non-null  int64  \n",
      " 4   arrival_date_month              119390 non-null  object \n",
      " 5   arrival_date_week_number        119390 non-null  int64  \n",
      " 6   arrival_date_day_of_month       119390 non-null  int64  \n",
      " 7   stays_in_weekend_nights         119390 non-null  int64  \n",
      " 8   stays_in_weekdays_nights        119390 non-null  int64  \n",
      " 9   adults                          119390 non-null  int64  \n",
      " 10  children                        119386 non-null  float64\n",
      " 11  babies                          119390 non-null  int64  \n",
      " 12  meal                            119390 non-null  object \n",
      " 13  city                            118902 non-null  object \n",
      " 14  market_segment                  119390 non-null  object \n",
      " 15  distribution_channel            119390 non-null  object \n",
      " 16  is_repeated_guest               119390 non-null  int64  \n",
      " 17  previous_cancellations          119390 non-null  int64  \n",
      " 18  previous_bookings_not_canceled  119390 non-null  int64  \n",
      " 19  booking_changes                 119390 non-null  int64  \n",
      " 20  deposit_type                    119390 non-null  object \n",
      " 21  agent                           103050 non-null  float64\n",
      " 22  company                         6797 non-null    float64\n",
      " 23  days_in_waiting_list            119390 non-null  int64  \n",
      " 24  customer_type                   119390 non-null  object \n",
      " 25  adr                             119390 non-null  float64\n",
      " 26  required_car_parking_spaces     119390 non-null  int64  \n",
      " 27  total_of_special_requests       119390 non-null  int64  \n",
      " 28  reservation_status              119390 non-null  object \n",
      "dtypes: float64(4), int64(16), object(9)\n",
      "memory usage: 26.4+ MB\n"
     ]
    }
   ],
   "source": [
    "df.info()"
   ]
  },
  {
   "cell_type": "markdown",
   "id": "6c016ef2-bb12-472f-ba6c-e2353b286934",
   "metadata": {},
   "source": [
    "## Missing Values"
   ]
  },
  {
   "cell_type": "code",
   "execution_count": 18,
   "id": "1b8fb36a-ae5f-4a26-a756-6831ba0cb0b9",
   "metadata": {},
   "outputs": [
    {
     "data": {
      "text/plain": [
       "children         4\n",
       "city           488\n",
       "agent        16340\n",
       "company     112593\n",
       "dtype: int64"
      ]
     },
     "execution_count": 18,
     "metadata": {},
     "output_type": "execute_result"
    }
   ],
   "source": [
    "#Check for missing values\n",
    "mis_col = df.isna().sum()[df.isna().sum()>0]\n",
    "mis_col"
   ]
  },
  {
   "cell_type": "code",
   "execution_count": 19,
   "id": "a0cea2d2-5077-4bf9-ba9d-e7573db07424",
   "metadata": {},
   "outputs": [
    {
     "name": "stdout",
     "output_type": "stream",
     "text": [
      "Unique values in children column : [ 0.  1.  2. 10.]\n",
      "Unique values in city column : ['Kota Denpasar' 'Kabupaten Bangka' 'Kabupaten Sleman' 'Kota Batu']\n",
      "Unique values in agent column : [ nan 304. 240. 303.]\n",
      "Unique values in company column : [ nan 110. 113. 270.]\n"
     ]
    }
   ],
   "source": [
    "#Check missing columns data\n",
    "for i in mis_col.index:\n",
    "    print(f'Unique values in {i} column :',df[i].unique()[:4])"
   ]
  },
  {
   "cell_type": "code",
   "execution_count": 20,
   "id": "6fa7965a-4a2d-48a1-8161-2441ef7c1cc5",
   "metadata": {},
   "outputs": [],
   "source": [
    "#Fill missing values\n",
    "df[['children','agent','company']]= df[['children','agent','company']].fillna(0)\n",
    "df['city'] = df['city'].fillna('unknown')"
   ]
  },
  {
   "cell_type": "code",
   "execution_count": 21,
   "id": "89c11fc6-7b63-4a99-99e9-04c56bd8d596",
   "metadata": {},
   "outputs": [
    {
     "data": {
      "text/plain": [
       "Series([], dtype: int64)"
      ]
     },
     "execution_count": 21,
     "metadata": {},
     "output_type": "execute_result"
    }
   ],
   "source": [
    "#Check missing values\n",
    "df.isna().sum()[df.isna().sum()>0]"
   ]
  },
  {
   "cell_type": "markdown",
   "id": "7bde7bc8-98c7-420c-93f3-94d2b3b60aa5",
   "metadata": {},
   "source": [
    "## Adjusting values"
   ]
  },
  {
   "cell_type": "code",
   "execution_count": 22,
   "id": "dcc0d325-06dd-4001-b7c6-33f601402697",
   "metadata": {},
   "outputs": [
    {
     "data": {
      "text/plain": [
       "array(['Breakfast', 'Full Board', 'Dinner', 'No Meal', 'Undefined'],\n",
       "      dtype=object)"
      ]
     },
     "execution_count": 22,
     "metadata": {},
     "output_type": "execute_result"
    }
   ],
   "source": [
    "#check for categorical values\n",
    "df['meal'].unique()"
   ]
  },
  {
   "cell_type": "code",
   "execution_count": 23,
   "id": "e34941c5-a299-4800-955f-496ecc8d82d7",
   "metadata": {},
   "outputs": [
    {
     "data": {
      "text/plain": [
       "array(['Breakfast', 'Full Board', 'Dinner', 'No Meal'], dtype=object)"
      ]
     },
     "execution_count": 23,
     "metadata": {},
     "output_type": "execute_result"
    }
   ],
   "source": [
    "#Correcting meal column values\n",
    "def fx(x):\n",
    "    if x == 'Undefined':\n",
    "        return 'No Meal'\n",
    "    else :\n",
    "        return x\n",
    "df['meal'] = df['meal'].map(lambda x: fx(x))\n",
    "df['meal'].unique()"
   ]
  },
  {
   "cell_type": "code",
   "execution_count": 24,
   "id": "952de4b3-3314-44d6-a5b7-a250e281e6c9",
   "metadata": {},
   "outputs": [
    {
     "data": {
      "text/plain": [
       "array([ 9, 10, 11, 12,  1,  2,  3,  4,  5,  6,  7,  8], dtype=int64)"
      ]
     },
     "execution_count": 24,
     "metadata": {},
     "output_type": "execute_result"
    }
   ],
   "source": [
    "#Encoding Month values\n",
    "months_list = ['January', 'February', 'March', 'April', 'May', 'June', 'July', 'August', \n",
    "               'September', 'October', 'November', 'December']\n",
    "month_dict = {}\n",
    "\n",
    "a = 1\n",
    "for i in months_list:\n",
    "    month_dict[i] = a\n",
    "    a +=1\n",
    "    \n",
    "df['arrival_date_month'] = df['arrival_date_month'].map(month_dict)\n",
    "df['arrival_date_month'].unique()"
   ]
  },
  {
   "cell_type": "code",
   "execution_count": 25,
   "id": "76962702-3a78-4160-8d98-8f2fc31cdea9",
   "metadata": {},
   "outputs": [],
   "source": [
    "#Convert data type to integer\n",
    "df['children'] = df['children'].astype('int64')\n",
    "df['agent'] = df['agent'].astype('int64')\n",
    "df['company'] = df['company'].astype('int64')"
   ]
  },
  {
   "cell_type": "markdown",
   "id": "70c412db-d1f1-4ed6-8055-b11859a22e7b",
   "metadata": {},
   "source": [
    "## Drop Unnecesary Data"
   ]
  },
  {
   "cell_type": "code",
   "execution_count": 26,
   "id": "c1525145-3169-4774-a3a5-68710cd59037",
   "metadata": {},
   "outputs": [
    {
     "data": {
      "text/plain": [
       "(118565, 31)"
      ]
     },
     "execution_count": 26,
     "metadata": {},
     "output_type": "execute_result"
    }
   ],
   "source": [
    "#Create new column total_guests\n",
    "df['total_guests'] = df['adults'] + df['children'] + df['babies']\n",
    "df['stay_nights'] = df['stays_in_weekend_nights'] + df['stays_in_weekdays_nights']\n",
    "\n",
    "#filter data where total guest and stay night more than 0, \n",
    "#total_guests and stay night 0 means no one use the room and not spending night in the room\n",
    "df = df[(df['total_guests']>0) & (df['stay_nights']>0)]\n",
    "df.shape"
   ]
  },
  {
   "cell_type": "code",
   "execution_count": null,
   "id": "8e5d38dd-3a22-45c7-a6eb-ca4bdf061688",
   "metadata": {},
   "outputs": [],
   "source": [
    "investigate_hotel_business_data_visualization"
   ]
  },
  {
   "cell_type": "code",
   "execution_count": null,
   "id": "7db94f5e-45fe-4bcf-b403-d7c965903e48",
   "metadata": {},
   "outputs": [],
   "source": []
  },
  {
   "cell_type": "code",
   "execution_count": null,
   "id": "9af01d5b-a398-4d9e-8474-b4f2eacb4806",
   "metadata": {},
   "outputs": [],
   "source": []
  },
  {
   "cell_type": "code",
   "execution_count": null,
   "id": "53589563-5122-4e60-9978-05c35b07f1b9",
   "metadata": {},
   "outputs": [],
   "source": []
  }
 ],
 "metadata": {
  "kernelspec": {
   "display_name": "Python 3 (ipykernel)",
   "language": "python",
   "name": "python3"
  },
  "language_info": {
   "codemirror_mode": {
    "name": "ipython",
    "version": 3
   },
   "file_extension": ".py",
   "mimetype": "text/x-python",
   "name": "python",
   "nbconvert_exporter": "python",
   "pygments_lexer": "ipython3",
   "version": "3.9.7"
  }
 },
 "nbformat": 4,
 "nbformat_minor": 5
}
